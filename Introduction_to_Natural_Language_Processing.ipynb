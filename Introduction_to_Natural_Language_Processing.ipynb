{
  "nbformat": 4,
  "nbformat_minor": 0,
  "metadata": {
    "colab": {
      "provenance": [],
      "include_colab_link": true
    },
    "kernelspec": {
      "name": "python3",
      "display_name": "Python 3"
    },
    "language_info": {
      "name": "python"
    }
  },
  "cells": [
    {
      "cell_type": "markdown",
      "metadata": {
        "id": "view-in-github",
        "colab_type": "text"
      },
      "source": [
        "<a href=\"https://colab.research.google.com/github/Collins-Opiyo/Boston_Linear_modeling-/blob/main/Introduction_to_Natural_Language_Processing.ipynb\" target=\"_parent\"><img src=\"https://colab.research.google.com/assets/colab-badge.svg\" alt=\"Open In Colab\"/></a>"
      ]
    },
    {
      "cell_type": "markdown",
      "source": [
        "\n",
        "\n",
        "\n",
        "\n",
        "\n"
      ],
      "metadata": {
        "id": "x-rbWtUSFxeX"
      }
    },
    {
      "source": [
        "\n",
        "!pip install scikit-surprise"
      ],
      "cell_type": "code",
      "metadata": {
        "colab": {
          "base_uri": "https://localhost:8080/"
        },
        "collapsed": true,
        "id": "Sg6AiAiqxidk",
        "outputId": "52fad60f-825d-4be3-80d5-e69ee9de3fc8"
      },
      "execution_count": null,
      "outputs": [
        {
          "output_type": "stream",
          "name": "stdout",
          "text": [
            "Collecting scikit-surprise\n",
            "  Downloading scikit_surprise-1.1.4.tar.gz (154 kB)\n",
            "\u001b[?25l     \u001b[90m━━━━━━━━━━━━━━━━━━━━━━━━━━━━━━━━━━━━━━━━\u001b[0m \u001b[32m0.0/154.4 kB\u001b[0m \u001b[31m?\u001b[0m eta \u001b[36m-:--:--\u001b[0m\r\u001b[2K     \u001b[91m━━━━━━━━━━━━━━━━━━━━━━━━━━━━━━━━━━━━━━━\u001b[0m\u001b[91m╸\u001b[0m \u001b[32m153.6/154.4 kB\u001b[0m \u001b[31m4.9 MB/s\u001b[0m eta \u001b[36m0:00:01\u001b[0m\r\u001b[2K     \u001b[90m━━━━━━━━━━━━━━━━━━━━━━━━━━━━━━━━━━━━━━━━\u001b[0m \u001b[32m154.4/154.4 kB\u001b[0m \u001b[31m3.4 MB/s\u001b[0m eta \u001b[36m0:00:00\u001b[0m\n",
            "\u001b[?25h  Installing build dependencies ... \u001b[?25l\u001b[?25hdone\n",
            "  Getting requirements to build wheel ... \u001b[?25l\u001b[?25hdone\n",
            "  Preparing metadata (pyproject.toml) ... \u001b[?25l\u001b[?25hdone\n",
            "Requirement already satisfied: joblib>=1.2.0 in /usr/local/lib/python3.10/dist-packages (from scikit-surprise) (1.4.2)\n",
            "Requirement already satisfied: numpy>=1.19.5 in /usr/local/lib/python3.10/dist-packages (from scikit-surprise) (1.26.4)\n",
            "Requirement already satisfied: scipy>=1.6.0 in /usr/local/lib/python3.10/dist-packages (from scikit-surprise) (1.13.1)\n",
            "Building wheels for collected packages: scikit-surprise\n",
            "  Building wheel for scikit-surprise (pyproject.toml) ... \u001b[?25l\u001b[?25hdone\n",
            "  Created wheel for scikit-surprise: filename=scikit_surprise-1.1.4-cp310-cp310-linux_x86_64.whl size=2357270 sha256=98d88b5a7130082fc57f2b102b9a0f6f4231d4e3619cd003198f311991564b40\n",
            "  Stored in directory: /root/.cache/pip/wheels/4b/3f/df/6acbf0a40397d9bf3ff97f582cc22fb9ce66adde75bc71fd54\n",
            "Successfully built scikit-surprise\n",
            "Installing collected packages: scikit-surprise\n",
            "Successfully installed scikit-surprise-1.1.4\n"
          ]
        }
      ]
    },
    {
      "cell_type": "markdown",
      "source": [
        "## Content-Based Recommenders\n",
        "\n"
      ],
      "metadata": {
        "id": "QW2yBuYiZocD"
      }
    },
    {
      "cell_type": "code",
      "source": [
        "from sklearn.feature_extraction.text import TfidfVectorizer\n",
        "from sklearn.metrics.pairwise import linear_kernel\n",
        "\n",
        "# Sample data: a list of articles\n",
        "articles = [\"Natural Language Processing is a field of AI...\",\n",
        "            \"Machine Learning algorithms help predict outcomes...\",\n",
        "            \"Deep Learning is a subset of Machine Learning...\"]\n",
        "\n",
        "# Create a TF-IDF vectorizer and transform the articles\n",
        "tfidf = TfidfVectorizer(stop_words='english')\n",
        "tfidf_matrix = tfidf.fit_transform(articles)\n",
        "\n",
        "# Compute similarity between the first article and others\n",
        "cosine_similarities = linear_kernel(tfidf_matrix[0:1], tfidf_matrix).flatten()\n",
        "print(cosine_similarities)\n"
      ],
      "metadata": {
        "id": "x94tbE_viqKs",
        "colab": {
          "base_uri": "https://localhost:8080/"
        },
        "outputId": "2e74500d-34da-4f6b-92d2-70fdab5a28e7"
      },
      "execution_count": null,
      "outputs": [
        {
          "output_type": "stream",
          "name": "stdout",
          "text": [
            "[1. 0. 0.]\n"
          ]
        }
      ]
    },
    {
      "cell_type": "markdown",
      "source": [
        "### Matrix Factorization"
      ],
      "metadata": {
        "id": "sYXUCU5gZOL7"
      }
    },
    {
      "cell_type": "code",
      "execution_count": null,
      "metadata": {
        "colab": {
          "base_uri": "https://localhost:8080/"
        },
        "id": "k64GgpyOFPUx",
        "outputId": "2956ed3c-fbe1-4341-bd6f-db338a38ed2c"
      },
      "outputs": [
        {
          "output_type": "stream",
          "name": "stdout",
          "text": [
            "Dataset ml-100k could not be found. Do you want to download it? [Y/n] Y\n",
            "Trying to download dataset from https://files.grouplens.org/datasets/movielens/ml-100k.zip...\n",
            "Done! Dataset ml-100k has been saved to /root/.surprise_data/ml-100k\n",
            "RMSE: 0.9430\n"
          ]
        },
        {
          "output_type": "execute_result",
          "data": {
            "text/plain": [
              "0.9430123183082555"
            ]
          },
          "metadata": {},
          "execution_count": 9
        }
      ],
      "source": [
        "from surprise import Dataset, Reader\n",
        "from surprise import SVD\n",
        "from surprise.model_selection import train_test_split\n",
        "from surprise import accuracy\n",
        "\n",
        "# Load the dataset\n",
        "data = Dataset.load_builtin('ml-100k')\n",
        "trainset, testset = train_test_split(data, test_size=0.25)\n",
        "\n",
        "# Use the SVD algorithm\n",
        "algo = SVD()\n",
        "\n",
        "# Train and test the algorithm\n",
        "algo.fit(trainset)\n",
        "predictions = algo.test(testset)\n",
        "\n",
        "# Compute and print accuracy\n",
        "accuracy.rmse(predictions)\n"
      ]
    },
    {
      "cell_type": "markdown",
      "source": [
        "### K-Means Clustering\n",
        "\n",
        "\n"
      ],
      "metadata": {
        "id": "6LJGC9ROGFFV"
      }
    },
    {
      "cell_type": "code",
      "source": [
        "from sklearn.cluster import KMeans\n",
        "import numpy as np\n",
        "\n",
        "# Sample data: coordinates of points\n",
        "X = np.array([[1, 2], [1, 4], [1, 0], [10, 2], [10, 4], [10, 0]])\n",
        "\n",
        "# Applying KMeans with 2 clusters\n",
        "kmeans = KMeans(n_clusters=2, random_state=0).fit(X)\n",
        "print(kmeans.labels_)"
      ],
      "metadata": {
        "colab": {
          "base_uri": "https://localhost:8080/"
        },
        "id": "fl6Hd9gNGHYy",
        "outputId": "f66e8cfc-063c-41b9-a572-6d842d946b43"
      },
      "execution_count": null,
      "outputs": [
        {
          "output_type": "stream",
          "name": "stdout",
          "text": [
            "[1 1 1 0 0 0]\n"
          ]
        },
        {
          "output_type": "stream",
          "name": "stderr",
          "text": [
            "/usr/local/lib/python3.10/dist-packages/sklearn/cluster/_kmeans.py:1416: FutureWarning: The default value of `n_init` will change from 10 to 'auto' in 1.4. Set the value of `n_init` explicitly to suppress the warning\n",
            "  super()._check_params_vs_input(X, default_n_init=10)\n"
          ]
        }
      ]
    },
    {
      "cell_type": "markdown",
      "source": [
        "### Principal Component Analysis (PCA)"
      ],
      "metadata": {
        "id": "XaRO_EXiZ4hr"
      }
    },
    {
      "cell_type": "code",
      "source": [
        "from sklearn.decomposition import PCA\n",
        "from sklearn.datasets import load_iris\n",
        "\n",
        "# Load data\n",
        "data = load_iris()\n",
        "X = data.data\n",
        "\n",
        "# Applying PCA\n",
        "pca = PCA(n_components=2)\n",
        "principal_components = pca.fit_transform(X)\n",
        "\n",
        "print(principal_components)\n"
      ],
      "metadata": {
        "colab": {
          "base_uri": "https://localhost:8080/"
        },
        "id": "9G8HjBW9GTWv",
        "outputId": "a628b696-4c59-46d4-f710-b489a779366b"
      },
      "execution_count": null,
      "outputs": [
        {
          "output_type": "stream",
          "name": "stdout",
          "text": [
            "[[-2.68412563  0.31939725]\n",
            " [-2.71414169 -0.17700123]\n",
            " [-2.88899057 -0.14494943]\n",
            " [-2.74534286 -0.31829898]\n",
            " [-2.72871654  0.32675451]\n",
            " [-2.28085963  0.74133045]\n",
            " [-2.82053775 -0.08946138]\n",
            " [-2.62614497  0.16338496]\n",
            " [-2.88638273 -0.57831175]\n",
            " [-2.6727558  -0.11377425]\n",
            " [-2.50694709  0.6450689 ]\n",
            " [-2.61275523  0.01472994]\n",
            " [-2.78610927 -0.235112  ]\n",
            " [-3.22380374 -0.51139459]\n",
            " [-2.64475039  1.17876464]\n",
            " [-2.38603903  1.33806233]\n",
            " [-2.62352788  0.81067951]\n",
            " [-2.64829671  0.31184914]\n",
            " [-2.19982032  0.87283904]\n",
            " [-2.5879864   0.51356031]\n",
            " [-2.31025622  0.39134594]\n",
            " [-2.54370523  0.43299606]\n",
            " [-3.21593942  0.13346807]\n",
            " [-2.30273318  0.09870885]\n",
            " [-2.35575405 -0.03728186]\n",
            " [-2.50666891 -0.14601688]\n",
            " [-2.46882007  0.13095149]\n",
            " [-2.56231991  0.36771886]\n",
            " [-2.63953472  0.31203998]\n",
            " [-2.63198939 -0.19696122]\n",
            " [-2.58739848 -0.20431849]\n",
            " [-2.4099325   0.41092426]\n",
            " [-2.64886233  0.81336382]\n",
            " [-2.59873675  1.09314576]\n",
            " [-2.63692688 -0.12132235]\n",
            " [-2.86624165  0.06936447]\n",
            " [-2.62523805  0.59937002]\n",
            " [-2.80068412  0.26864374]\n",
            " [-2.98050204 -0.48795834]\n",
            " [-2.59000631  0.22904384]\n",
            " [-2.77010243  0.26352753]\n",
            " [-2.84936871 -0.94096057]\n",
            " [-2.99740655 -0.34192606]\n",
            " [-2.40561449  0.18887143]\n",
            " [-2.20948924  0.43666314]\n",
            " [-2.71445143 -0.2502082 ]\n",
            " [-2.53814826  0.50377114]\n",
            " [-2.83946217 -0.22794557]\n",
            " [-2.54308575  0.57941002]\n",
            " [-2.70335978  0.10770608]\n",
            " [ 1.28482569  0.68516047]\n",
            " [ 0.93248853  0.31833364]\n",
            " [ 1.46430232  0.50426282]\n",
            " [ 0.18331772 -0.82795901]\n",
            " [ 1.08810326  0.07459068]\n",
            " [ 0.64166908 -0.41824687]\n",
            " [ 1.09506066  0.28346827]\n",
            " [-0.74912267 -1.00489096]\n",
            " [ 1.04413183  0.2283619 ]\n",
            " [-0.0087454  -0.72308191]\n",
            " [-0.50784088 -1.26597119]\n",
            " [ 0.51169856 -0.10398124]\n",
            " [ 0.26497651 -0.55003646]\n",
            " [ 0.98493451 -0.12481785]\n",
            " [-0.17392537 -0.25485421]\n",
            " [ 0.92786078  0.46717949]\n",
            " [ 0.66028376 -0.35296967]\n",
            " [ 0.23610499 -0.33361077]\n",
            " [ 0.94473373 -0.54314555]\n",
            " [ 0.04522698 -0.58383438]\n",
            " [ 1.11628318 -0.08461685]\n",
            " [ 0.35788842 -0.06892503]\n",
            " [ 1.29818388 -0.32778731]\n",
            " [ 0.92172892 -0.18273779]\n",
            " [ 0.71485333  0.14905594]\n",
            " [ 0.90017437  0.32850447]\n",
            " [ 1.33202444  0.24444088]\n",
            " [ 1.55780216  0.26749545]\n",
            " [ 0.81329065 -0.1633503 ]\n",
            " [-0.30558378 -0.36826219]\n",
            " [-0.06812649 -0.70517213]\n",
            " [-0.18962247 -0.68028676]\n",
            " [ 0.13642871 -0.31403244]\n",
            " [ 1.38002644 -0.42095429]\n",
            " [ 0.58800644 -0.48428742]\n",
            " [ 0.80685831  0.19418231]\n",
            " [ 1.22069088  0.40761959]\n",
            " [ 0.81509524 -0.37203706]\n",
            " [ 0.24595768 -0.2685244 ]\n",
            " [ 0.16641322 -0.68192672]\n",
            " [ 0.46480029 -0.67071154]\n",
            " [ 0.8908152  -0.03446444]\n",
            " [ 0.23054802 -0.40438585]\n",
            " [-0.70453176 -1.01224823]\n",
            " [ 0.35698149 -0.50491009]\n",
            " [ 0.33193448 -0.21265468]\n",
            " [ 0.37621565 -0.29321893]\n",
            " [ 0.64257601  0.01773819]\n",
            " [-0.90646986 -0.75609337]\n",
            " [ 0.29900084 -0.34889781]\n",
            " [ 2.53119273 -0.00984911]\n",
            " [ 1.41523588 -0.57491635]\n",
            " [ 2.61667602  0.34390315]\n",
            " [ 1.97153105 -0.1797279 ]\n",
            " [ 2.35000592 -0.04026095]\n",
            " [ 3.39703874  0.55083667]\n",
            " [ 0.52123224 -1.19275873]\n",
            " [ 2.93258707  0.3555    ]\n",
            " [ 2.32122882 -0.2438315 ]\n",
            " [ 2.91675097  0.78279195]\n",
            " [ 1.66177415  0.24222841]\n",
            " [ 1.80340195 -0.21563762]\n",
            " [ 2.1655918   0.21627559]\n",
            " [ 1.34616358 -0.77681835]\n",
            " [ 1.58592822 -0.53964071]\n",
            " [ 1.90445637  0.11925069]\n",
            " [ 1.94968906  0.04194326]\n",
            " [ 3.48705536  1.17573933]\n",
            " [ 3.79564542  0.25732297]\n",
            " [ 1.30079171 -0.76114964]\n",
            " [ 2.42781791  0.37819601]\n",
            " [ 1.19900111 -0.60609153]\n",
            " [ 3.49992004  0.4606741 ]\n",
            " [ 1.38876613 -0.20439933]\n",
            " [ 2.2754305   0.33499061]\n",
            " [ 2.61409047  0.56090136]\n",
            " [ 1.25850816 -0.17970479]\n",
            " [ 1.29113206 -0.11666865]\n",
            " [ 2.12360872 -0.20972948]\n",
            " [ 2.38800302  0.4646398 ]\n",
            " [ 2.84167278  0.37526917]\n",
            " [ 3.23067366  1.37416509]\n",
            " [ 2.15943764 -0.21727758]\n",
            " [ 1.44416124 -0.14341341]\n",
            " [ 1.78129481 -0.49990168]\n",
            " [ 3.07649993  0.68808568]\n",
            " [ 2.14424331  0.1400642 ]\n",
            " [ 1.90509815  0.04930053]\n",
            " [ 1.16932634 -0.16499026]\n",
            " [ 2.10761114  0.37228787]\n",
            " [ 2.31415471  0.18365128]\n",
            " [ 1.9222678   0.40920347]\n",
            " [ 1.41523588 -0.57491635]\n",
            " [ 2.56301338  0.2778626 ]\n",
            " [ 2.41874618  0.3047982 ]\n",
            " [ 1.94410979  0.1875323 ]\n",
            " [ 1.52716661 -0.37531698]\n",
            " [ 1.76434572  0.07885885]\n",
            " [ 1.90094161  0.11662796]\n",
            " [ 1.39018886 -0.28266094]]\n"
          ]
        }
      ]
    }
  ]
}